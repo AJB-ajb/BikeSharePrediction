{
 "cells": [
  {
   "cell_type": "markdown",
   "metadata": {},
   "source": [
    "# Processing Steps\n",
    "- remove data with NaN values\n",
    "- retrieve geospatial coordinates for the respective stations from the stations file\n",
    "- "
   ]
  },
  {
   "cell_type": "code",
   "execution_count": 1,
   "metadata": {
    "vscode": {
     "languageId": "shellscript"
    }
   },
   "outputs": [
    {
     "data": {
      "text/html": [
       "<div>\n",
       "<style scoped>\n",
       "    .dataframe tbody tr th:only-of-type {\n",
       "        vertical-align: middle;\n",
       "    }\n",
       "\n",
       "    .dataframe tbody tr th {\n",
       "        vertical-align: top;\n",
       "    }\n",
       "\n",
       "    .dataframe thead th {\n",
       "        text-align: right;\n",
       "    }\n",
       "</style>\n",
       "<table border=\"1\" class=\"dataframe\">\n",
       "  <thead>\n",
       "    <tr style=\"text-align: right;\">\n",
       "      <th></th>\n",
       "      <th>Trip Id</th>\n",
       "      <th>Trip  Duration</th>\n",
       "      <th>Start Station Id</th>\n",
       "      <th>Start Time</th>\n",
       "      <th>Start Station Name</th>\n",
       "      <th>End Station Id</th>\n",
       "      <th>End Time</th>\n",
       "      <th>End Station Name</th>\n",
       "      <th>Bike Id</th>\n",
       "      <th>User Type</th>\n",
       "    </tr>\n",
       "  </thead>\n",
       "  <tbody>\n",
       "    <tr>\n",
       "      <th>0</th>\n",
       "      <td>26682740</td>\n",
       "      <td>528</td>\n",
       "      <td>7041</td>\n",
       "      <td>01/01/2024 00:00</td>\n",
       "      <td>Edward St / Yonge St</td>\n",
       "      <td>7130.0</td>\n",
       "      <td>01/01/2024 00:08</td>\n",
       "      <td>Davenport Rd / Bedford Rd</td>\n",
       "      <td>7855</td>\n",
       "      <td>Casual Member</td>\n",
       "    </tr>\n",
       "    <tr>\n",
       "      <th>1</th>\n",
       "      <td>26682742</td>\n",
       "      <td>1924</td>\n",
       "      <td>7245</td>\n",
       "      <td>01/01/2024 00:02</td>\n",
       "      <td>Tecumseth St / Queen St W - SMART</td>\n",
       "      <td>7259.0</td>\n",
       "      <td>01/01/2024 00:34</td>\n",
       "      <td>Lower Spadina Ave / Lake Shore Blvd</td>\n",
       "      <td>2453</td>\n",
       "      <td>Casual Member</td>\n",
       "    </tr>\n",
       "    <tr>\n",
       "      <th>2</th>\n",
       "      <td>26682743</td>\n",
       "      <td>2741</td>\n",
       "      <td>7052</td>\n",
       "      <td>01/01/2024 00:03</td>\n",
       "      <td>Wellington St W / Bay St</td>\n",
       "      <td>7366.0</td>\n",
       "      <td>01/01/2024 00:49</td>\n",
       "      <td>Fort York Blvd / Bathurst St SMART</td>\n",
       "      <td>7332</td>\n",
       "      <td>Casual Member</td>\n",
       "    </tr>\n",
       "    <tr>\n",
       "      <th>3</th>\n",
       "      <td>26682744</td>\n",
       "      <td>353</td>\n",
       "      <td>7041</td>\n",
       "      <td>01/01/2024 00:03</td>\n",
       "      <td>Edward St / Yonge St</td>\n",
       "      <td>7418.0</td>\n",
       "      <td>01/01/2024 00:09</td>\n",
       "      <td>College Park - Yonge St Entrance</td>\n",
       "      <td>782</td>\n",
       "      <td>Casual Member</td>\n",
       "    </tr>\n",
       "    <tr>\n",
       "      <th>4</th>\n",
       "      <td>26682746</td>\n",
       "      <td>2118</td>\n",
       "      <td>7721</td>\n",
       "      <td>01/01/2024 00:04</td>\n",
       "      <td>NaN</td>\n",
       "      <td>7721.0</td>\n",
       "      <td>01/01/2024 00:40</td>\n",
       "      <td>NaN</td>\n",
       "      <td>1008</td>\n",
       "      <td>Casual Member</td>\n",
       "    </tr>\n",
       "  </tbody>\n",
       "</table>\n",
       "</div>"
      ],
      "text/plain": [
       "    Trip Id  Trip  Duration  Start Station Id        Start Time  \\\n",
       "0  26682740             528              7041  01/01/2024 00:00   \n",
       "1  26682742            1924              7245  01/01/2024 00:02   \n",
       "2  26682743            2741              7052  01/01/2024 00:03   \n",
       "3  26682744             353              7041  01/01/2024 00:03   \n",
       "4  26682746            2118              7721  01/01/2024 00:04   \n",
       "\n",
       "                  Start Station Name  End Station Id          End Time  \\\n",
       "0               Edward St / Yonge St          7130.0  01/01/2024 00:08   \n",
       "1  Tecumseth St / Queen St W - SMART          7259.0  01/01/2024 00:34   \n",
       "2           Wellington St W / Bay St          7366.0  01/01/2024 00:49   \n",
       "3               Edward St / Yonge St          7418.0  01/01/2024 00:09   \n",
       "4                                NaN          7721.0  01/01/2024 00:40   \n",
       "\n",
       "                      End Station Name  Bike Id      User Type  \n",
       "0            Davenport Rd / Bedford Rd     7855  Casual Member  \n",
       "1  Lower Spadina Ave / Lake Shore Blvd     2453  Casual Member  \n",
       "2   Fort York Blvd / Bathurst St SMART     7332  Casual Member  \n",
       "3     College Park - Yonge St Entrance      782  Casual Member  \n",
       "4                                  NaN     1008  Casual Member  "
      ]
     },
     "execution_count": 1,
     "metadata": {},
     "output_type": "execute_result"
    }
   ],
   "source": [
    "import pandas as pd\n",
    "\n",
    "# Load the CSV data into a DataFrame\n",
    "file_path = '../data/bikeshare-ridership-2024/Bike share ridership 2024-06.csv'\n",
    "\n",
    "ridership_table = pd.read_csv(\"../data/bikeshare-ridership-2024/Bike share ridership 2024-01.csv\")\n",
    "\n",
    "# Display the first few rows of the DataFrame\n",
    "ridership_table.head()"
   ]
  },
  {
   "cell_type": "code",
   "execution_count": 2,
   "metadata": {},
   "outputs": [
    {
     "name": "stdout",
     "output_type": "stream",
     "text": [
      "Index(['Trip Id', 'Trip  Duration', 'Start Station Id', 'Start Time',\n",
      "       'Start Station Name', 'End Station Id', 'End Time', 'End Station Name',\n",
      "       'Bike Id', 'User Type'],\n",
      "      dtype='object')\n"
     ]
    }
   ],
   "source": [
    "# Print the column headers of the bike_share_data DataFrame\n",
    "print(ridership_table.columns)\n",
    "row_names = ['Trip Id', 'Trip  Duration', 'Start Station Id', 'Start Time',\n",
    "       'Start Station Name', 'End Station Id', 'End Time', 'End Station Name',\n",
    "       'Bike Id', 'User Type']"
   ]
  },
  {
   "cell_type": "code",
   "execution_count": 3,
   "metadata": {
    "vscode": {
     "languageId": "shellscript"
    }
   },
   "outputs": [
    {
     "name": "stdout",
     "output_type": "stream",
     "text": [
      "Average trip duration: 14.61 minutes\n"
     ]
    }
   ],
   "source": [
    "# get average trip duration\n",
    "average_trip_duration_min = ridership_table['Trip  Duration'].mean() / 60\n",
    "print(f\"Average trip duration: {average_trip_duration_min:.2f} minutes\")"
   ]
  },
  {
   "cell_type": "code",
   "execution_count": 4,
   "metadata": {},
   "outputs": [],
   "source": [
    "from analysis import *\n",
    "\n",
    "def calc_capacities():\n",
    "    pass\n",
    "    # todo\n",
    "    # assume num_bikes_t0\n",
    "    # assume capacity = max(num_bikes(t) over t) - min(num_bikes(t) over t)\n",
    "    # num_bikes_t0 = -min(num_bikes(t) over t)\n",
    "    # \n",
    "\n",
    "def visualize_heatmap(t):\n",
    "    pass\n",
    "    # todo\n",
    "    # (folium)\n",
    "    # create map with all stations\n",
    "    # color stations by difference between max(capacity and bikes(t), bikes(t))"
   ]
  },
  {
   "cell_type": "code",
   "execution_count": 5,
   "metadata": {},
   "outputs": [],
   "source": [
    "bike_share_data = BikeShareData(\"2024-1\")\n",
    "bike_share_data.load_data(ridership_table)\n",
    "bike_share_data.save_pickle()"
   ]
  },
  {
   "cell_type": "code",
   "execution_count": 6,
   "metadata": {},
   "outputs": [],
   "source": [
    "bike_share_data.calc_capacities()"
   ]
  },
  {
   "cell_type": "code",
   "execution_count": 7,
   "metadata": {},
   "outputs": [
    {
     "data": {
      "text/plain": [
       "Text(0.5, 1.0, 'Distribution of Trip Durations')"
      ]
     },
     "execution_count": 7,
     "metadata": {},
     "output_type": "execute_result"
    },
    {
     "data": {
      "image/png": "[encoded data removed]",
      "text/plain": [
       "<Figure size 640x480 with 1 Axes>"
      ]
     },
     "metadata": {},
     "output_type": "display_data"
    }
   ],
   "source": [
    "import matplotlib.pyplot as plt\n",
    "import numpy as np\n",
    "\n",
    "# Create a histogram of the trip durations\n",
    "plt.hist(ridership_table['Trip  Duration'] / 60, bins=range(0, 75, 5))\n",
    "plt.title('Distribution of Trip Durations')"
   ]
  },
  {
   "cell_type": "code",
   "execution_count": 8,
   "metadata": {},
   "outputs": [
    {
     "name": "stdout",
     "output_type": "stream",
     "text": [
      "BikeStation(station_id=7041, name='Edward St / Yonge St', lat=nan, lon=nan, capacity=np.int64(84), num_bikes_t0=np.int64(7), num_bikes=<analysis.SparseSequence object at 0x76a38298a4e0>)\n",
      "<analysis.SparseSequence object at 0x76a38298a4e0>\n"
     ]
    }
   ],
   "source": [
    "one_station = bike_share_data.stations[list(bike_share_data.stations.keys())[0]]\n",
    "print(one_station)\n",
    "print(one_station.num_bikes)"
   ]
  },
  {
   "cell_type": "code",
   "execution_count": null,
   "metadata": {},
   "outputs": [],
   "source": []
  }
 ],
 "metadata": {
  "kernelspec": {
   "display_name": ".venv",
   "language": "python",
   "name": "python3"
  },
  "language_info": {
   "codemirror_mode": {
    "name": "ipython",
    "version": 3
   },
   "file_extension": ".py",
   "mimetype": "text/x-python",
   "name": "python",
   "nbconvert_exporter": "python",
   "pygments_lexer": "ipython3",
   "version": "3.12.3"
  }
 },
 "nbformat": 4,
 "nbformat_minor": 2
}
