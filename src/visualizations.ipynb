{
 "cells": [
  {
   "cell_type": "markdown",
   "metadata": {},
   "source": [
    "# Visualization\n",
    "## In Rate and Out Rates\n",
    "We use the historic trip data for one month (May 2024, as the January File format encoding is slightly different and contains NULL end station ids) to calculate the number of bikes docked over a 1-hour window for each minute.\n",
    "\n",
    "We visualize this data as animated plot, showing a circle at the respective time.\n",
    "\n",
    "We use `folium` to create the map visualizations and the open Toronto Bikesharing JSON current station data to obtain the capacities. Notably, the capacities of different stations can change over time as stations are made larger, so this would be required to address in the future. We here assume that the number of capacity changes in a year is neglegibly small.\n"
   ]
  },
  {
   "cell_type": "code",
   "execution_count": 3,
   "metadata": {},
   "outputs": [],
   "source": [
    "import analysis as an\n",
    "\n",
    "data = an.BikeShareData.load_from_pickle(name = '2024-5')\n"
   ]
  },
  {
   "cell_type": "code",
   "execution_count": 6,
   "metadata": {},
   "outputs": [
    {
     "data": {
      "text/plain": [
       "<module 'analysis' from '/mnt/vol2/BikeShareCongestion/src/analysis.py'>"
      ]
     },
     "execution_count": 6,
     "metadata": {},
     "output_type": "execute_result"
    }
   ],
   "source": [
    "import importlib\n",
    "importlib.reload(an)"
   ]
  },
  {
   "cell_type": "code",
   "execution_count": 7,
   "metadata": {},
   "outputs": [],
   "source": [
    "data.load_current_stations()"
   ]
  },
  {
   "cell_type": "code",
   "execution_count": 9,
   "metadata": {},
   "outputs": [
    {
     "ename": "KeyError",
     "evalue": "0",
     "output_type": "error",
     "traceback": [
      "\u001b[0;31m---------------------------------------------------------------------------\u001b[0m",
      "\u001b[0;31mKeyError\u001b[0m                                  Traceback (most recent call last)",
      "Cell \u001b[0;32mIn[9], line 3\u001b[0m\n\u001b[1;32m      1\u001b[0m \u001b[38;5;66;03m# visualize the station locations using folium\u001b[39;00m\n\u001b[1;32m      2\u001b[0m \u001b[38;5;28;01mimport\u001b[39;00m \u001b[38;5;21;01mfolium\u001b[39;00m\n\u001b[0;32m----> 3\u001b[0m m \u001b[38;5;241m=\u001b[39m folium\u001b[38;5;241m.\u001b[39mMap(location\u001b[38;5;241m=\u001b[39m[\u001b[43mdata\u001b[49m\u001b[38;5;241;43m.\u001b[39;49m\u001b[43mstations\u001b[49m\u001b[43m[\u001b[49m\u001b[38;5;241;43m0\u001b[39;49m\u001b[43m]\u001b[49m\u001b[38;5;241m.\u001b[39mlat, data\u001b[38;5;241m.\u001b[39mstations[\u001b[38;5;241m0\u001b[39m]\u001b[38;5;241m.\u001b[39mlon], zoom_start\u001b[38;5;241m=\u001b[39m\u001b[38;5;241m14\u001b[39m)\n\u001b[1;32m      4\u001b[0m \u001b[38;5;28;01mfor\u001b[39;00m station \u001b[38;5;129;01min\u001b[39;00m data\u001b[38;5;241m.\u001b[39mstations:\n\u001b[1;32m      5\u001b[0m     folium\u001b[38;5;241m.\u001b[39mMarker([station\u001b[38;5;241m.\u001b[39mlat, station\u001b[38;5;241m.\u001b[39mlon], popup\u001b[38;5;241m=\u001b[39mstation\u001b[38;5;241m.\u001b[39mname)\u001b[38;5;241m.\u001b[39madd_to(m)\n",
      "\u001b[0;31mKeyError\u001b[0m: 0"
     ]
    }
   ],
   "source": [
    "# visualize the station locations using folium\n",
    "import folium\n",
    "firstkey = list(data.stations.keys())[0]\n",
    "m = folium.Map(location=[data.stations[7000].lat, data.stations[7000].lon], zoom_start=14)\n",
    "for station in data.stations:\n",
    "    folium.Marker([station.lat, station.lon], popup=station.name).add_to(m)\n",
    "m.save('stations.html')\n"
   ]
  }
 ],
 "metadata": {
  "kernelspec": {
   "display_name": ".venv",
   "language": "python",
   "name": "python3"
  },
  "language_info": {
   "codemirror_mode": {
    "name": "ipython",
    "version": 3
   },
   "file_extension": ".py",
   "mimetype": "text/x-python",
   "name": "python",
   "nbconvert_exporter": "python",
   "pygments_lexer": "ipython3",
   "version": "3.12.3"
  }
 },
 "nbformat": 4,
 "nbformat_minor": 2
}
