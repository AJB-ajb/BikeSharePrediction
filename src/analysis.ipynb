{
 "cells": [
  {
   "cell_type": "markdown",
   "metadata": {},
   "source": [
    "# Bike Data Analysis\n",
    "## Notes on the Data\n",
    "- Start Station Id is always an int, although Start Station Name may be NULL. \n",
    "  - What does NULL mean? insertion from repair?\n",
    "  - 28228 / 200_000 rides have null start station; also roughly 28225 / 200_000 rides have null name end station\n",
    "    - Hypothesis: No valid Id | System Error\n",
    "    - Notably, in Feb - June data, there are no NaN end stations (all integers) \n",
    "      - possibly, the data format has changed\n",
    "  - How are repairs, temporary bike removal modeled in the data?\n",
    "  - When are bikes typically repaired? / relocated?\n",
    "- End Station Id may be nan. What does that mean?\n",
    "  - Note: 95 Nan End stations in Jan 2024 of roughly 200_000 rides total. Note: this is always station 9737\n",
    "  - \n",
    "  - Hypothesis: Manual repositioning / repairs | repositioning.\n",
    "- Note: files have `cp1252` encoding\n",
    "- Note: Station IDs start at 7000\n",
    "\n",
    "\n",
    "## Geospatial Analysis and Visualization\n",
    "- Retrieve geospatial coordinates for the respective stations from the stations file or the current up-to-date station data from the other repo. (Check that ids match, otherwise match street names)\n",
    "- \n",
    "\n"
   ]
  },
  {
   "cell_type": "code",
   "execution_count": 43,
   "metadata": {},
   "outputs": [
    {
     "ename": "AttributeError",
     "evalue": "'DataFrame' object has no attribute 'astypes'",
     "output_type": "error",
     "traceback": [
      "\u001b[0;31m---------------------------------------------------------------------------\u001b[0m",
      "\u001b[0;31mAttributeError\u001b[0m                            Traceback (most recent call last)",
      "\u001b[0;32m/tmp/ipykernel_23554/1792095539.py\u001b[0m in \u001b[0;36m?\u001b[0;34m()\u001b[0m\n\u001b[1;32m      4\u001b[0m \u001b[0mfile_path\u001b[0m \u001b[0;34m=\u001b[0m \u001b[0;34m'../data/bikeshare-ridership-2024/Bike share ridership 2024-06.csv'\u001b[0m\u001b[0;34m\u001b[0m\u001b[0;34m\u001b[0m\u001b[0m\n\u001b[1;32m      5\u001b[0m \u001b[0;34m\u001b[0m\u001b[0m\n\u001b[1;32m      6\u001b[0m \u001b[0;34m\u001b[0m\u001b[0m\n\u001b[1;32m      7\u001b[0m \u001b[0mridership_table\u001b[0m \u001b[0;34m=\u001b[0m \u001b[0mpd\u001b[0m\u001b[0;34m.\u001b[0m\u001b[0mread_csv\u001b[0m\u001b[0;34m(\u001b[0m\u001b[0;34m\"../data/bikeshare-ridership-2024/Bike share ridership 2024-05.csv\"\u001b[0m\u001b[0;34m,\u001b[0m \u001b[0mencoding\u001b[0m\u001b[0;34m=\u001b[0m\u001b[0;34m'cp1252'\u001b[0m\u001b[0;34m)\u001b[0m\u001b[0;34m\u001b[0m\u001b[0;34m\u001b[0m\u001b[0m\n\u001b[0;32m----> 8\u001b[0;31m \u001b[0mdf\u001b[0m \u001b[0;34m=\u001b[0m \u001b[0man\u001b[0m\u001b[0;34m.\u001b[0m\u001b[0mpreprocess_ridership_table\u001b[0m\u001b[0;34m(\u001b[0m\u001b[0mridership_table\u001b[0m\u001b[0;34m)\u001b[0m\u001b[0;34m\u001b[0m\u001b[0;34m\u001b[0m\u001b[0m\n\u001b[0m\u001b[1;32m      9\u001b[0m \u001b[0;31m# for jan 2024 utf 8 encoding; other months cp1252\u001b[0m\u001b[0;34m\u001b[0m\u001b[0;34m\u001b[0m\u001b[0m\n\u001b[1;32m     10\u001b[0m \u001b[0;34m\u001b[0m\u001b[0m\n\u001b[1;32m     11\u001b[0m \u001b[0;31m# Display the first few rows of the DataFrame\u001b[0m\u001b[0;34m\u001b[0m\u001b[0;34m\u001b[0m\u001b[0m\n",
      "\u001b[0;32m/mnt/vol2/BikeShareCongestion/src/analysis.py\u001b[0m in \u001b[0;36m?\u001b[0;34m(df)\u001b[0m\n\u001b[1;32m     10\u001b[0m \u001b[0;32mdef\u001b[0m \u001b[0mpreprocess_ridership_table\u001b[0m\u001b[0;34m(\u001b[0m\u001b[0mdf\u001b[0m\u001b[0;34m)\u001b[0m\u001b[0;34m:\u001b[0m\u001b[0;34m\u001b[0m\u001b[0;34m\u001b[0m\u001b[0m\n\u001b[1;32m     11\u001b[0m     \u001b[0mdf\u001b[0m \u001b[0;34m=\u001b[0m \u001b[0mdf\u001b[0m\u001b[0;34m[\u001b[0m\u001b[0mdf\u001b[0m\u001b[0;34m[\u001b[0m\u001b[0;34m\"Trip  Duration\"\u001b[0m\u001b[0;34m]\u001b[0m \u001b[0;34m!=\u001b[0m \u001b[0;36m0\u001b[0m\u001b[0;34m]\u001b[0m\u001b[0;34m\u001b[0m\u001b[0;34m\u001b[0m\u001b[0m\n\u001b[1;32m     12\u001b[0m     \u001b[0mdf\u001b[0m \u001b[0;34m=\u001b[0m \u001b[0mdf\u001b[0m\u001b[0;34m[\u001b[0m\u001b[0mdf\u001b[0m\u001b[0;34m[\u001b[0m\u001b[0;34m\"End Station Id\"\u001b[0m\u001b[0;34m]\u001b[0m\u001b[0;34m.\u001b[0m\u001b[0mnotna\u001b[0m\u001b[0;34m(\u001b[0m\u001b[0;34m)\u001b[0m\u001b[0;34m]\u001b[0m\u001b[0;34m\u001b[0m\u001b[0;34m\u001b[0m\u001b[0m\n\u001b[0;32m---> 13\u001b[0;31m     \u001b[0mdf\u001b[0m \u001b[0;34m=\u001b[0m \u001b[0mdf\u001b[0m\u001b[0;34m.\u001b[0m\u001b[0mastypes\u001b[0m\u001b[0;34m(\u001b[0m\u001b[0;34m{\u001b[0m\u001b[0;34m\"End Station Id\"\u001b[0m\u001b[0;34m:\u001b[0m \u001b[0mint\u001b[0m\u001b[0;34m}\u001b[0m\u001b[0;34m)\u001b[0m\u001b[0;34m\u001b[0m\u001b[0;34m\u001b[0m\u001b[0m\n\u001b[0m\u001b[1;32m     14\u001b[0m     \u001b[0mdf\u001b[0m\u001b[0;34m[\u001b[0m\u001b[0;34m'Start Time'\u001b[0m\u001b[0;34m]\u001b[0m \u001b[0;34m=\u001b[0m \u001b[0mpd\u001b[0m\u001b[0;34m.\u001b[0m\u001b[0mto_datetime\u001b[0m\u001b[0;34m(\u001b[0m\u001b[0mdf\u001b[0m\u001b[0;34m[\u001b[0m\u001b[0;34m'Start Time'\u001b[0m\u001b[0;34m]\u001b[0m\u001b[0;34m,\u001b[0m \u001b[0mformat\u001b[0m\u001b[0;34m=\u001b[0m\u001b[0;34m'%m/%d/%Y %H:%M'\u001b[0m\u001b[0;34m)\u001b[0m\u001b[0;34m\u001b[0m\u001b[0;34m\u001b[0m\u001b[0m\n\u001b[1;32m     15\u001b[0m     \u001b[0mdf\u001b[0m\u001b[0;34m[\u001b[0m\u001b[0;34m'End Time'\u001b[0m\u001b[0;34m]\u001b[0m \u001b[0;34m=\u001b[0m \u001b[0mpd\u001b[0m\u001b[0;34m.\u001b[0m\u001b[0mto_datetime\u001b[0m\u001b[0;34m(\u001b[0m\u001b[0mdf\u001b[0m\u001b[0;34m[\u001b[0m\u001b[0;34m'End Time'\u001b[0m\u001b[0;34m]\u001b[0m\u001b[0;34m,\u001b[0m \u001b[0mformat\u001b[0m\u001b[0;34m=\u001b[0m\u001b[0;34m'%m/%d/%Y %H:%M'\u001b[0m\u001b[0;34m)\u001b[0m\u001b[0;34m\u001b[0m\u001b[0;34m\u001b[0m\u001b[0m\n\u001b[1;32m     16\u001b[0m \u001b[0;34m\u001b[0m\u001b[0m\n",
      "\u001b[0;32m/mnt/vol2/BikeShareCongestion/.venv/lib/python3.12/site-packages/pandas/core/generic.py\u001b[0m in \u001b[0;36m?\u001b[0;34m(self, name)\u001b[0m\n\u001b[1;32m   6295\u001b[0m             \u001b[0;32mand\u001b[0m \u001b[0mname\u001b[0m \u001b[0;32mnot\u001b[0m \u001b[0;32min\u001b[0m \u001b[0mself\u001b[0m\u001b[0;34m.\u001b[0m\u001b[0m_accessors\u001b[0m\u001b[0;34m\u001b[0m\u001b[0;34m\u001b[0m\u001b[0m\n\u001b[1;32m   6296\u001b[0m             \u001b[0;32mand\u001b[0m \u001b[0mself\u001b[0m\u001b[0;34m.\u001b[0m\u001b[0m_info_axis\u001b[0m\u001b[0;34m.\u001b[0m\u001b[0m_can_hold_identifiers_and_holds_name\u001b[0m\u001b[0;34m(\u001b[0m\u001b[0mname\u001b[0m\u001b[0;34m)\u001b[0m\u001b[0;34m\u001b[0m\u001b[0;34m\u001b[0m\u001b[0m\n\u001b[1;32m   6297\u001b[0m         \u001b[0;34m)\u001b[0m\u001b[0;34m:\u001b[0m\u001b[0;34m\u001b[0m\u001b[0;34m\u001b[0m\u001b[0m\n\u001b[1;32m   6298\u001b[0m             \u001b[0;32mreturn\u001b[0m \u001b[0mself\u001b[0m\u001b[0;34m[\u001b[0m\u001b[0mname\u001b[0m\u001b[0;34m]\u001b[0m\u001b[0;34m\u001b[0m\u001b[0;34m\u001b[0m\u001b[0m\n\u001b[0;32m-> 6299\u001b[0;31m         \u001b[0;32mreturn\u001b[0m \u001b[0mobject\u001b[0m\u001b[0;34m.\u001b[0m\u001b[0m__getattribute__\u001b[0m\u001b[0;34m(\u001b[0m\u001b[0mself\u001b[0m\u001b[0;34m,\u001b[0m \u001b[0mname\u001b[0m\u001b[0;34m)\u001b[0m\u001b[0;34m\u001b[0m\u001b[0;34m\u001b[0m\u001b[0m\n\u001b[0m",
      "\u001b[0;31mAttributeError\u001b[0m: 'DataFrame' object has no attribute 'astypes'"
     ]
    }
   ],
   "source": [
    "import pandas as pd\n",
    "\n",
    "# Load the CSV data into a DataFrame\n",
    "file_path = '../data/bikeshare-ridership-2024/Bike share ridership 2024-06.csv'\n",
    "\n",
    "\n",
    "ridership_table = pd.read_csv(\"../data/bikeshare-ridership-2024/Bike share ridership 2024-05.csv\", encoding='cp1252')\n",
    "# for jan 2024 utf 8 encoding; other months cp1252\n",
    "\n",
    "# Display the first few rows of the DataFrame\n",
    "ridership_table.info()"
   ]
  },
  {
   "cell_type": "code",
   "execution_count": 27,
   "metadata": {},
   "outputs": [
    {
     "data": {
      "text/html": [
       "<div>\n",
       "<style scoped>\n",
       "    .dataframe tbody tr th:only-of-type {\n",
       "        vertical-align: middle;\n",
       "    }\n",
       "\n",
       "    .dataframe tbody tr th {\n",
       "        vertical-align: top;\n",
       "    }\n",
       "\n",
       "    .dataframe thead th {\n",
       "        text-align: right;\n",
       "    }\n",
       "</style>\n",
       "<table border=\"1\" class=\"dataframe\">\n",
       "  <thead>\n",
       "    <tr style=\"text-align: right;\">\n",
       "      <th></th>\n",
       "      <th>Trip Id</th>\n",
       "      <th>Trip  Duration</th>\n",
       "      <th>Start Station Id</th>\n",
       "      <th>Start Time</th>\n",
       "      <th>Start Station Name</th>\n",
       "      <th>End Station Id</th>\n",
       "      <th>End Time</th>\n",
       "      <th>End Station Name</th>\n",
       "      <th>Bike Id</th>\n",
       "      <th>User Type</th>\n",
       "      <th>Model</th>\n",
       "    </tr>\n",
       "  </thead>\n",
       "  <tbody>\n",
       "  </tbody>\n",
       "</table>\n",
       "</div>"
      ],
      "text/plain": [
       "Empty DataFrame\n",
       "Columns: [Trip Id, Trip  Duration, Start Station Id, Start Time, Start Station Name, End Station Id, End Time, End Station Name, Bike Id, User Type, Model]\n",
       "Index: []"
      ]
     },
     "execution_count": 27,
     "metadata": {},
     "output_type": "execute_result"
    }
   ],
   "source": [
    "ridership_table[ridership_table['Bike Id'].isna()]"
   ]
  },
  {
   "cell_type": "code",
   "execution_count": 31,
   "metadata": {},
   "outputs": [
    {
     "name": "stdout",
     "output_type": "stream",
     "text": [
      "<class 'pandas.core.frame.DataFrame'>\n",
      "RangeIndex: 685782 entries, 0 to 685781\n",
      "Data columns (total 11 columns):\n",
      " #   Column              Non-Null Count   Dtype \n",
      "---  ------              --------------   ----- \n",
      " 0   Trip Id             685782 non-null  int64 \n",
      " 1   Trip  Duration      685782 non-null  int64 \n",
      " 2   Start Station Id    685782 non-null  int64 \n",
      " 3   Start Time          685782 non-null  object\n",
      " 4   Start Station Name  685748 non-null  object\n",
      " 5   End Station Id      685782 non-null  int64 \n",
      " 6   End Time            685782 non-null  object\n",
      " 7   End Station Name    685744 non-null  object\n",
      " 8   Bike Id             685782 non-null  int64 \n",
      " 9   User Type           685782 non-null  object\n",
      " 10  Model               685782 non-null  object\n",
      "dtypes: int64(5), object(6)\n",
      "memory usage: 57.6+ MB\n"
     ]
    }
   ],
   "source": [
    "def preprocess_table(df):\n",
    "    df = df[df[\"Trip  Duration\"] != 0]\n",
    "    df = df[df[\"End Station Id\"].notna()]\n",
    "    df.astypes({\"End Station Id\": int})\n",
    "    df['Start Time'] = pd.to_datetime(df['Start Time'])\n",
    "    df['End Time'] = pd.to_datetime(df['End Time'])\n",
    "\n",
    "    return df\n",
    "ridership_table = preprocess_table(ridership_table)\n",
    "ridership_table.info()\n"
   ]
  },
  {
   "cell_type": "code",
   "execution_count": 14,
   "metadata": {
    "vscode": {
     "languageId": "shellscript"
    }
   },
   "outputs": [
    {
     "data": {
      "text/html": [
       "<div>\n",
       "<style scoped>\n",
       "    .dataframe tbody tr th:only-of-type {\n",
       "        vertical-align: middle;\n",
       "    }\n",
       "\n",
       "    .dataframe tbody tr th {\n",
       "        vertical-align: top;\n",
       "    }\n",
       "\n",
       "    .dataframe thead th {\n",
       "        text-align: right;\n",
       "    }\n",
       "</style>\n",
       "<table border=\"1\" class=\"dataframe\">\n",
       "  <thead>\n",
       "    <tr style=\"text-align: right;\">\n",
       "      <th></th>\n",
       "      <th>ï»¿Trip Id</th>\n",
       "      <th>Trip  Duration</th>\n",
       "      <th>Start Station Id</th>\n",
       "      <th>Start Time</th>\n",
       "      <th>Start Station Name</th>\n",
       "      <th>End Station Id</th>\n",
       "      <th>End Time</th>\n",
       "      <th>End Station Name</th>\n",
       "      <th>Bike Id</th>\n",
       "      <th>User Type</th>\n",
       "    </tr>\n",
       "  </thead>\n",
       "  <tbody>\n",
       "    <tr>\n",
       "      <th>4</th>\n",
       "      <td>26682746</td>\n",
       "      <td>2118</td>\n",
       "      <td>7721</td>\n",
       "      <td>01/01/2024 00:04</td>\n",
       "      <td>NaN</td>\n",
       "      <td>7721.0</td>\n",
       "      <td>01/01/2024 00:40</td>\n",
       "      <td>NaN</td>\n",
       "      <td>1008</td>\n",
       "      <td>Casual Member</td>\n",
       "    </tr>\n",
       "    <tr>\n",
       "      <th>6</th>\n",
       "      <td>26682748</td>\n",
       "      <td>3014</td>\n",
       "      <td>7788</td>\n",
       "      <td>01/01/2024 00:05</td>\n",
       "      <td>NaN</td>\n",
       "      <td>7686.0</td>\n",
       "      <td>01/01/2024 00:55</td>\n",
       "      <td>NaN</td>\n",
       "      <td>5130</td>\n",
       "      <td>Casual Member</td>\n",
       "    </tr>\n",
       "    <tr>\n",
       "      <th>20</th>\n",
       "      <td>26682765</td>\n",
       "      <td>4327</td>\n",
       "      <td>7881</td>\n",
       "      <td>01/01/2024 00:14</td>\n",
       "      <td>NaN</td>\n",
       "      <td>NaN</td>\n",
       "      <td>01/01/2024 01:27</td>\n",
       "      <td>NaN</td>\n",
       "      <td>3379</td>\n",
       "      <td>Casual Member</td>\n",
       "    </tr>\n",
       "    <tr>\n",
       "      <th>24</th>\n",
       "      <td>26682770</td>\n",
       "      <td>598</td>\n",
       "      <td>7261</td>\n",
       "      <td>01/01/2024 00:16</td>\n",
       "      <td>Queens Quay E / Lower Sherbourne St</td>\n",
       "      <td>7911.0</td>\n",
       "      <td>01/01/2024 00:26</td>\n",
       "      <td>NaN</td>\n",
       "      <td>6454</td>\n",
       "      <td>Casual Member</td>\n",
       "    </tr>\n",
       "    <tr>\n",
       "      <th>27</th>\n",
       "      <td>26682773</td>\n",
       "      <td>456</td>\n",
       "      <td>7810</td>\n",
       "      <td>01/01/2024 00:17</td>\n",
       "      <td>NaN</td>\n",
       "      <td>7815.0</td>\n",
       "      <td>01/01/2024 00:24</td>\n",
       "      <td>NaN</td>\n",
       "      <td>4231</td>\n",
       "      <td>Casual Member</td>\n",
       "    </tr>\n",
       "    <tr>\n",
       "      <th>...</th>\n",
       "      <td>...</td>\n",
       "      <td>...</td>\n",
       "      <td>...</td>\n",
       "      <td>...</td>\n",
       "      <td>...</td>\n",
       "      <td>...</td>\n",
       "      <td>...</td>\n",
       "      <td>...</td>\n",
       "      <td>...</td>\n",
       "      <td>...</td>\n",
       "    </tr>\n",
       "    <tr>\n",
       "      <th>204851</th>\n",
       "      <td>26916615</td>\n",
       "      <td>183</td>\n",
       "      <td>7311</td>\n",
       "      <td>01/31/2024 23:51</td>\n",
       "      <td>Sherbourne St / Isabella St</td>\n",
       "      <td>7724.0</td>\n",
       "      <td>01/31/2024 23:54</td>\n",
       "      <td>NaN</td>\n",
       "      <td>3181</td>\n",
       "      <td>Casual Member</td>\n",
       "    </tr>\n",
       "    <tr>\n",
       "      <th>204852</th>\n",
       "      <td>26916616</td>\n",
       "      <td>523</td>\n",
       "      <td>7204</td>\n",
       "      <td>01/31/2024 23:51</td>\n",
       "      <td>College St / Crawford St</td>\n",
       "      <td>7905.0</td>\n",
       "      <td>02/01/2024 00:00</td>\n",
       "      <td>NaN</td>\n",
       "      <td>5819</td>\n",
       "      <td>Casual Member</td>\n",
       "    </tr>\n",
       "    <tr>\n",
       "      <th>204853</th>\n",
       "      <td>26916617</td>\n",
       "      <td>919</td>\n",
       "      <td>7821</td>\n",
       "      <td>01/31/2024 23:51</td>\n",
       "      <td>NaN</td>\n",
       "      <td>7821.0</td>\n",
       "      <td>02/01/2024 00:06</td>\n",
       "      <td>NaN</td>\n",
       "      <td>1843</td>\n",
       "      <td>Casual Member</td>\n",
       "    </tr>\n",
       "    <tr>\n",
       "      <th>204854</th>\n",
       "      <td>26916618</td>\n",
       "      <td>1015</td>\n",
       "      <td>7523</td>\n",
       "      <td>01/31/2024 23:52</td>\n",
       "      <td>Lynn Williams St / East Liberty St - SMART</td>\n",
       "      <td>7770.0</td>\n",
       "      <td>02/01/2024 00:08</td>\n",
       "      <td>NaN</td>\n",
       "      <td>6084</td>\n",
       "      <td>Casual Member</td>\n",
       "    </tr>\n",
       "    <tr>\n",
       "      <th>204865</th>\n",
       "      <td>26916630</td>\n",
       "      <td>852</td>\n",
       "      <td>7570</td>\n",
       "      <td>01/31/2024 23:57</td>\n",
       "      <td>Carlaw Ave / Dundas St E</td>\n",
       "      <td>7716.0</td>\n",
       "      <td>02/01/2024 00:11</td>\n",
       "      <td>NaN</td>\n",
       "      <td>729</td>\n",
       "      <td>Casual Member</td>\n",
       "    </tr>\n",
       "  </tbody>\n",
       "</table>\n",
       "<p>28228 rows × 10 columns</p>\n",
       "</div>"
      ],
      "text/plain": [
       "        ï»¿Trip Id  Trip  Duration  Start Station Id        Start Time  \\\n",
       "4         26682746            2118              7721  01/01/2024 00:04   \n",
       "6         26682748            3014              7788  01/01/2024 00:05   \n",
       "20        26682765            4327              7881  01/01/2024 00:14   \n",
       "24        26682770             598              7261  01/01/2024 00:16   \n",
       "27        26682773             456              7810  01/01/2024 00:17   \n",
       "...            ...             ...               ...               ...   \n",
       "204851    26916615             183              7311  01/31/2024 23:51   \n",
       "204852    26916616             523              7204  01/31/2024 23:51   \n",
       "204853    26916617             919              7821  01/31/2024 23:51   \n",
       "204854    26916618            1015              7523  01/31/2024 23:52   \n",
       "204865    26916630             852              7570  01/31/2024 23:57   \n",
       "\n",
       "                                Start Station Name  End Station Id  \\\n",
       "4                                              NaN          7721.0   \n",
       "6                                              NaN          7686.0   \n",
       "20                                             NaN             NaN   \n",
       "24             Queens Quay E / Lower Sherbourne St          7911.0   \n",
       "27                                             NaN          7815.0   \n",
       "...                                            ...             ...   \n",
       "204851                 Sherbourne St / Isabella St          7724.0   \n",
       "204852                    College St / Crawford St          7905.0   \n",
       "204853                                         NaN          7821.0   \n",
       "204854  Lynn Williams St / East Liberty St - SMART          7770.0   \n",
       "204865                    Carlaw Ave / Dundas St E          7716.0   \n",
       "\n",
       "                End Time End Station Name  Bike Id      User Type  \n",
       "4       01/01/2024 00:40              NaN     1008  Casual Member  \n",
       "6       01/01/2024 00:55              NaN     5130  Casual Member  \n",
       "20      01/01/2024 01:27              NaN     3379  Casual Member  \n",
       "24      01/01/2024 00:26              NaN     6454  Casual Member  \n",
       "27      01/01/2024 00:24              NaN     4231  Casual Member  \n",
       "...                  ...              ...      ...            ...  \n",
       "204851  01/31/2024 23:54              NaN     3181  Casual Member  \n",
       "204852  02/01/2024 00:00              NaN     5819  Casual Member  \n",
       "204853  02/01/2024 00:06              NaN     1843  Casual Member  \n",
       "204854  02/01/2024 00:08              NaN     6084  Casual Member  \n",
       "204865  02/01/2024 00:11              NaN      729  Casual Member  \n",
       "\n",
       "[28228 rows x 10 columns]"
      ]
     },
     "execution_count": 14,
     "metadata": {},
     "output_type": "execute_result"
    }
   ],
   "source": [
    "ridership_table[ridership_table['End Station Name'].isnull()]"
   ]
  },
  {
   "cell_type": "code",
   "execution_count": 2,
   "metadata": {},
   "outputs": [
    {
     "name": "stdout",
     "output_type": "stream",
     "text": [
      "Index(['Trip Id', 'Trip  Duration', 'Start Station Id', 'Start Time',\n",
      "       'Start Station Name', 'End Station Id', 'End Time', 'End Station Name',\n",
      "       'Bike Id', 'User Type'],\n",
      "      dtype='object')\n"
     ]
    }
   ],
   "source": [
    "# Print the column headers of the bike_share_data DataFrame\n",
    "print(ridership_table.columns)\n",
    "row_names = ['Trip Id', 'Trip  Duration', 'Start Station Id', 'Start Time',\n",
    "       'Start Station Name', 'End Station Id', 'End Time', 'End Station Name',\n",
    "       'Bike Id', 'User Type']"
   ]
  },
  {
   "cell_type": "code",
   "execution_count": 3,
   "metadata": {
    "vscode": {
     "languageId": "shellscript"
    }
   },
   "outputs": [
    {
     "name": "stdout",
     "output_type": "stream",
     "text": [
      "Average trip duration: 14.61 minutes\n"
     ]
    }
   ],
   "source": [
    "# get average trip duration\n",
    "average_trip_duration_min = ridership_table['Trip  Duration'].mean() / 60\n",
    "print(f\"Average trip duration: {average_trip_duration_min:.2f} minutes\")"
   ]
  },
  {
   "cell_type": "code",
   "execution_count": 134,
   "metadata": {},
   "outputs": [
    {
     "name": "stdout",
     "output_type": "stream",
     "text": [
      "reloading analysis\n"
     ]
    }
   ],
   "source": [
    "if not 'an' in globals():\n",
    "    print('importing analysis')\n",
    "    import analysis as an\n",
    "else:\n",
    "    print('reloading analysis')\n",
    "    import importlib\n",
    "    importlib.reload(an)\n",
    "\n",
    "process_data = False\n",
    "reload_data = True\n",
    "\n",
    "name = '2024-5'\n",
    "file = '../data/bikeshare-ridership-2024/Bike share ridership 2024-05.csv'\n",
    "\n",
    "if process_data:\n",
    "    ridership_table = pd.read_csv(file, encoding='cp1252')\n",
    "    data = an.BikeShareData(name)\n",
    "    data.load_data(ridership_table)\n",
    "    data.save_pickle()\n",
    "\n",
    "if reload_data:\n",
    "    data = an.BikeShareData(name)\n",
    "    data = an.BikeShareData.load_from_pickle(name = name)\n"
   ]
  },
  {
   "cell_type": "code",
   "execution_count": 109,
   "metadata": {},
   "outputs": [],
   "source": [
    "df = an.preprocess_ridership_table(ridership_table)"
   ]
  },
  {
   "cell_type": "code",
   "execution_count": 141,
   "metadata": {},
   "outputs": [],
   "source": [
    "in_bikes, out_bikes = data._process_data_by_minute(df)\n",
    "in_rates, out_rates = data.calculate_in_out_rates(σ_minutes=60) # 60 minutes is probably good\n"
   ]
  },
  {
   "cell_type": "code",
   "execution_count": 144,
   "metadata": {},
   "outputs": [
    {
     "data": {
      "text/plain": [
       "[<matplotlib.lines.Line2D at 0x767507492cc0>]"
      ]
     },
     "execution_count": 144,
     "metadata": {},
     "output_type": "execute_result"
    },
    {
     "data": {
      "image/png": "[encoded data removed]",
      "text/plain": [
       "<Figure size 640x480 with 1 Axes>"
      ]
     },
     "metadata": {},
     "output_type": "display_data"
    }
   ],
   "source": [
    "import matplotlib.pyplot as plt\n",
    "\n",
    "time_range = range(0, 24 * 60)\n",
    "station = 5\n",
    "\n",
    "plt.plot(_bikes[station, time_range]) # Station 7000 over the whole month\n",
    "plt.plot(in_rates[station, time_range]) # look at the first day"
   ]
  },
  {
   "cell_type": "code",
   "execution_count": null,
   "metadata": {},
   "outputs": [],
   "source": [
    "# visualize the out-taken bikes by the size of circle in a folium map\n",
    "import folium\n",
    "from folium import plugins\n",
    "from folium.plugins import HeatMap\n",
    "\n",
    "m = folium.Map(location=[45.5236, -122.6750], zoom_start=13)\n",
    "\n"
   ]
  },
  {
   "cell_type": "code",
   "execution_count": 38,
   "metadata": {},
   "outputs": [
    {
     "name": "stdout",
     "output_type": "stream",
     "text": [
      "ind:  7041\n"
     ]
    },
    {
     "data": {
      "text/plain": [
       "BikeStation(station_id=7041, name='Edward St / Yonge St', lat=nan, lon=nan, capacity=-1, num_bikes_t0=0, num_bikes=SparseSequence([(Timestamp('2024-01-01 00:00:00'), 0), (Timestamp('2024-01-01 00:00:00'), -1), (Timestamp('2024-01-01 00:03:00'), -2)]))"
      ]
     },
     "execution_count": 38,
     "metadata": {},
     "output_type": "execute_result"
    }
   ],
   "source": [
    "import numpy as np\n",
    "\n",
    "def argmax(dict):\n",
    "    return max(dict.keys(), key = lambda x: dict[x])\n",
    "\n",
    "data.stations.keys()\n",
    "ind = argmax({key: station.capacity for key, station in data.stations.items()})\n",
    "\n",
    "print(\"ind: \", ind)\n",
    "max_cap_station = data.stations[ind]\n",
    "max_cap_station"
   ]
  },
  {
   "cell_type": "code",
   "execution_count": 7,
   "metadata": {},
   "outputs": [
    {
     "data": {
      "text/plain": [
       "Text(0.5, 1.0, 'Distribution of Trip Durations')"
      ]
     },
     "execution_count": 7,
     "metadata": {},
     "output_type": "execute_result"
    },
    {
     "data": {
      "image/png": "[encoded data removed]",
      "text/plain": [
       "<Figure size 640x480 with 1 Axes>"
      ]
     },
     "metadata": {},
     "output_type": "display_data"
    }
   ],
   "source": [
    "import matplotlib.pyplot as plt\n",
    "import numpy as np\n",
    "\n",
    "# Create a histogram of the trip durations\n",
    "plt.hist(ridership_table['Trip  Duration'] / 60, bins=range(0, 75, 5))\n",
    "plt.title('Distribution of Trip Durations')"
   ]
  },
  {
   "cell_type": "code",
   "execution_count": 8,
   "metadata": {},
   "outputs": [
    {
     "name": "stdout",
     "output_type": "stream",
     "text": [
      "BikeStation(station_id=7041, name='Edward St / Yonge St', lat=nan, lon=nan, capacity=np.int64(84), num_bikes_t0=np.int64(7), num_bikes=<analysis.SparseSequence object at 0x76a38298a4e0>)\n",
      "<analysis.SparseSequence object at 0x76a38298a4e0>\n"
     ]
    }
   ],
   "source": [
    "one_station = bike_share_data.stations[list(bike_share_data.stations.keys())[0]]\n",
    "print(one_station)\n",
    "print(one_station.num_bikes)"
   ]
  },
  {
   "cell_type": "code",
   "execution_count": null,
   "metadata": {},
   "outputs": [],
   "source": []
  }
 ],
 "metadata": {
  "kernelspec": {
   "display_name": ".venv",
   "language": "python",
   "name": "python3"
  },
  "language_info": {
   "codemirror_mode": {
    "name": "ipython",
    "version": 3
   },
   "file_extension": ".py",
   "mimetype": "text/x-python",
   "name": "python",
   "nbconvert_exporter": "python",
   "pygments_lexer": "ipython3",
   "version": "3.12.3"
  }
 },
 "nbformat": 4,
 "nbformat_minor": 2
}
